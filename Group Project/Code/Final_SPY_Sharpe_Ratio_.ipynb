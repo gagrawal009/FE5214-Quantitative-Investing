{
  "nbformat": 4,
  "nbformat_minor": 0,
  "metadata": {
    "colab": {
      "provenance": []
    },
    "kernelspec": {
      "name": "python3",
      "display_name": "Python 3"
    },
    "language_info": {
      "name": "python"
    }
  },
  "cells": [
    {
      "cell_type": "code",
      "execution_count": 7,
      "metadata": {
        "colab": {
          "base_uri": "https://localhost:8080/"
        },
        "id": "PGYZ5s67rw9f",
        "outputId": "dce251c7-268d-47be-9754-6e65be62233a"
      },
      "outputs": [
        {
          "output_type": "stream",
          "name": "stderr",
          "text": [
            "[*********************100%***********************]  1 of 1 completed\n",
            "<ipython-input-7-86a19e664837>:22: FutureWarning: 'M' is deprecated and will be removed in a future version, please use 'ME' instead.\n",
            "  spy_data_month_end = spy_data['Close'].resample('M').last()\n",
            "[*********************100%***********************]  1 of 1 completed\n",
            "<ipython-input-7-86a19e664837>:22: FutureWarning: 'M' is deprecated and will be removed in a future version, please use 'ME' instead.\n",
            "  spy_data_month_end = spy_data['Close'].resample('M').last()\n"
          ]
        },
        {
          "output_type": "stream",
          "name": "stdout",
          "text": [
            "{'Sharpe Ratio': Ticker\n",
            "SPY    1.776327\n",
            "dtype: float64}\n",
            "{'Sharpe Ratio': Ticker\n",
            "SPY    1.487709\n",
            "dtype: float64}\n"
          ]
        },
        {
          "output_type": "stream",
          "name": "stderr",
          "text": [
            "\r[*********************100%***********************]  1 of 1 completed\n",
            "<ipython-input-7-86a19e664837>:22: FutureWarning: 'M' is deprecated and will be removed in a future version, please use 'ME' instead.\n",
            "  spy_data_month_end = spy_data['Close'].resample('M').last()\n",
            "[*********************100%***********************]  1 of 1 completed\n",
            "<ipython-input-7-86a19e664837>:22: FutureWarning: 'M' is deprecated and will be removed in a future version, please use 'ME' instead.\n",
            "  spy_data_month_end = spy_data['Close'].resample('M').last()\n",
            "[*********************100%***********************]  1 of 1 completed\n",
            "<ipython-input-7-86a19e664837>:22: FutureWarning: 'M' is deprecated and will be removed in a future version, please use 'ME' instead.\n",
            "  spy_data_month_end = spy_data['Close'].resample('M').last()\n",
            "[*********************100%***********************]  1 of 1 completed\n",
            "<ipython-input-7-86a19e664837>:22: FutureWarning: 'M' is deprecated and will be removed in a future version, please use 'ME' instead.\n",
            "  spy_data_month_end = spy_data['Close'].resample('M').last()\n",
            "[*********************100%***********************]  1 of 1 completed\n",
            "<ipython-input-7-86a19e664837>:22: FutureWarning: 'M' is deprecated and will be removed in a future version, please use 'ME' instead.\n",
            "  spy_data_month_end = spy_data['Close'].resample('M').last()\n"
          ]
        },
        {
          "output_type": "stream",
          "name": "stdout",
          "text": [
            "{'Sharpe Ratio': Ticker\n",
            "SPY    2.240022\n",
            "dtype: float64}\n",
            "{'Sharpe Ratio': Ticker\n",
            "SPY    2.210193\n",
            "dtype: float64}\n",
            "{'Sharpe Ratio': Ticker\n",
            "SPY    1.523697\n",
            "dtype: float64}\n",
            "{'Sharpe Ratio': Ticker\n",
            "SPY    1.87045\n",
            "dtype: float64}\n",
            "{'Sharpe Ratio': Ticker\n",
            "SPY    1.700815\n",
            "dtype: float64}\n"
          ]
        },
        {
          "output_type": "stream",
          "name": "stderr",
          "text": [
            "[*********************100%***********************]  1 of 1 completed\n",
            "<ipython-input-7-86a19e664837>:22: FutureWarning: 'M' is deprecated and will be removed in a future version, please use 'ME' instead.\n",
            "  spy_data_month_end = spy_data['Close'].resample('M').last()\n",
            "[*********************100%***********************]  1 of 1 completed\n",
            "<ipython-input-7-86a19e664837>:22: FutureWarning: 'M' is deprecated and will be removed in a future version, please use 'ME' instead.\n",
            "  spy_data_month_end = spy_data['Close'].resample('M').last()\n",
            "[*********************100%***********************]  1 of 1 completed\n",
            "<ipython-input-7-86a19e664837>:22: FutureWarning: 'M' is deprecated and will be removed in a future version, please use 'ME' instead.\n",
            "  spy_data_month_end = spy_data['Close'].resample('M').last()\n",
            "[*********************100%***********************]  1 of 1 completed\n",
            "<ipython-input-7-86a19e664837>:22: FutureWarning: 'M' is deprecated and will be removed in a future version, please use 'ME' instead.\n",
            "  spy_data_month_end = spy_data['Close'].resample('M').last()\n",
            "[*********************100%***********************]  1 of 1 completed\n",
            "<ipython-input-7-86a19e664837>:22: FutureWarning: 'M' is deprecated and will be removed in a future version, please use 'ME' instead.\n",
            "  spy_data_month_end = spy_data['Close'].resample('M').last()\n"
          ]
        },
        {
          "output_type": "stream",
          "name": "stdout",
          "text": [
            "{'Sharpe Ratio': Ticker\n",
            "SPY    1.537407\n",
            "dtype: float64}\n",
            "{'Sharpe Ratio': Ticker\n",
            "SPY    1.945761\n",
            "dtype: float64}\n",
            "{'Sharpe Ratio': Ticker\n",
            "SPY    3.15038\n",
            "dtype: float64}\n",
            "{'Sharpe Ratio': Ticker\n",
            "SPY    3.441323\n",
            "dtype: float64}\n",
            "{'Sharpe Ratio': Ticker\n",
            "SPY    3.632135\n",
            "dtype: float64}\n"
          ]
        }
      ],
      "source": []
    },
    {
      "cell_type": "code",
      "source": [
        "import numpy as np\n",
        "import pandas as pd\n",
        "import yfinance as yf\n",
        "import warnings\n",
        "\n",
        "warnings.filterwarnings('ignore')\n",
        "\n",
        "def calculate_spy_sharpe_ratio(start_date, end_date):\n",
        "    spy_data = yf.download('SPY', start=start_date, end=end_date, interval='1mo')\n",
        "\n",
        "    # Resample to month-end\n",
        "    spy_data_month_end = spy_data['Close'].resample('M').last()\n",
        "\n",
        "    # Ensure we're working with a 1D Series\n",
        "    if isinstance(spy_data_month_end, pd.DataFrame):\n",
        "        spy_data_month_end = spy_data_month_end['SPY']\n",
        "\n",
        "    monthly_returns = spy_data_month_end.pct_change().dropna()\n",
        "    # Annualize\n",
        "    annualized_return = (1 + monthly_returns).prod() ** (12 / len(monthly_returns)) - 1\n",
        "    annualized_volatility = monthly_returns.std() * np.sqrt(12)\n",
        "    sharpe_ratio = annualized_return / annualized_volatility\n",
        "\n",
        "    return {\n",
        "        'End Date': pd.to_datetime(end_date).strftime('%Y-%m'),\n",
        "        'Sharpe Ratio': round(float(sharpe_ratio), 3)\n",
        "    }\n",
        "\n",
        "# Define rolling windows\n",
        "date_ranges = [\n",
        "    ('2022-12-31', '2024-01-31'),\n",
        "    ('2023-01-31', '2024-02-29'),\n",
        "    ('2023-02-28', '2024-03-31'),\n",
        "    ('2023-03-31', '2024-04-30'),\n",
        "    ('2023-04-30', '2024-05-31'),\n",
        "    ('2023-05-31', '2024-06-30'),\n",
        "    ('2023-06-30', '2024-07-31'),\n",
        "    ('2023-07-31', '2024-08-31'),\n",
        "    ('2023-08-31', '2024-09-30'),\n",
        "    ('2023-09-30', '2024-10-31'),\n",
        "    ('2023-10-31', '2024-11-30'),\n",
        "]\n",
        "\n",
        "# Run Sharpe calc for all ranges\n",
        "results = [calculate_spy_sharpe_ratio(start, end) for start, end in date_ranges]\n",
        "\n",
        "print(\"SPY Sharpe Ratio :\")\n",
        "# Format as DataFrame and print nicely\n",
        "results_df = pd.DataFrame(results)\n",
        "print(results_df.to_string(index=False))"
      ],
      "metadata": {
        "colab": {
          "base_uri": "https://localhost:8080/"
        },
        "id": "Pd4DxJQItZAi",
        "outputId": "c84205ae-34f6-42ad-8853-b0f86be619cb"
      },
      "execution_count": 18,
      "outputs": [
        {
          "output_type": "stream",
          "name": "stderr",
          "text": [
            "[*********************100%***********************]  1 of 1 completed\n",
            "[*********************100%***********************]  1 of 1 completed\n",
            "[*********************100%***********************]  1 of 1 completed\n",
            "[*********************100%***********************]  1 of 1 completed\n",
            "[*********************100%***********************]  1 of 1 completed\n",
            "[*********************100%***********************]  1 of 1 completed\n",
            "[*********************100%***********************]  1 of 1 completed\n",
            "[*********************100%***********************]  1 of 1 completed\n",
            "[*********************100%***********************]  1 of 1 completed\n",
            "[*********************100%***********************]  1 of 1 completed\n",
            "[*********************100%***********************]  1 of 1 completed"
          ]
        },
        {
          "output_type": "stream",
          "name": "stdout",
          "text": [
            "SPY Sharpe Ratio :\n",
            "End Date  Sharpe Ratio\n",
            " 2024-01         1.488\n",
            " 2024-02         2.240\n",
            " 2024-03         2.210\n",
            " 2024-04         1.524\n",
            " 2024-05         1.870\n",
            " 2024-06         1.701\n",
            " 2024-07         1.537\n",
            " 2024-08         1.946\n",
            " 2024-09         3.150\n",
            " 2024-10         3.441\n",
            " 2024-11         3.632\n"
          ]
        },
        {
          "output_type": "stream",
          "name": "stderr",
          "text": [
            "\n"
          ]
        }
      ]
    }
  ]
}