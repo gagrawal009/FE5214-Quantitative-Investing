{
  "nbformat": 4,
  "nbformat_minor": 0,
  "metadata": {
    "colab": {
      "provenance": []
    },
    "kernelspec": {
      "name": "python3",
      "display_name": "Python 3"
    },
    "language_info": {
      "name": "python"
    }
  },
  "cells": [
    {
      "cell_type": "code",
      "execution_count": 11,
      "metadata": {
        "colab": {
          "base_uri": "https://localhost:8080/"
        },
        "id": "0dH9Yx-mfIvN",
        "outputId": "38f89c37-7b28-482f-bf8d-d21e064727e5"
      },
      "outputs": [
        {
          "output_type": "stream",
          "name": "stderr",
          "text": [
            "[*********************100%***********************]  1 of 1 completed\n",
            "[*********************100%***********************]  1 of 1 completed\n",
            "[*********************100%***********************]  1 of 1 completed\n",
            "[*********************100%***********************]  1 of 1 completed\n",
            "[*********************100%***********************]  1 of 1 completed\n",
            "[*********************100%***********************]  1 of 1 completed\n",
            "[*********************100%***********************]  1 of 1 completed\n",
            "[*********************100%***********************]  1 of 1 completed\n",
            "[*********************100%***********************]  1 of 1 completed\n",
            "[*********************100%***********************]  1 of 1 completed\n",
            "[*********************100%***********************]  1 of 1 completed"
          ]
        },
        {
          "output_type": "stream",
          "name": "stdout",
          "text": [
            "SPY Sharpe Ratio :\n",
            "End Date  Sharpe Ratio\n",
            " 2024-01         0.501\n",
            " 2024-02         1.342\n",
            " 2024-03         0.760\n",
            " 2024-04        -0.878\n",
            " 2024-05         1.169\n",
            " 2024-06         0.767\n",
            " 2024-07         0.372\n",
            " 2024-08         0.585\n",
            " 2024-09         0.541\n",
            " 2024-10        -0.185\n",
            " 2024-11         2.219\n"
          ]
        },
        {
          "output_type": "stream",
          "name": "stderr",
          "text": [
            "\n"
          ]
        }
      ],
      "source": [
        "import numpy as np\n",
        "import pandas as pd\n",
        "import yfinance as yf\n",
        "import warnings\n",
        "\n",
        "warnings.filterwarnings('ignore')\n",
        "\n",
        "def calculate_spy_sharpe_ratio(start_date, end_date):\n",
        "    spy_data = yf.download('SPY', start=start_date, end=end_date, interval='1mo')\n",
        "\n",
        "    # Resample to month-end\n",
        "    spy_data_month_end = spy_data['Close'].resample('M').last()\n",
        "\n",
        "\n",
        "    monthly_returns = spy_data_month_end.pct_change().dropna()\n",
        "\n",
        "    annualized_return = monthly_returns.iloc[-1]\n",
        "\n",
        "    annualized_volatility = monthly_returns.std()\n",
        "    sharpe_ratio = annualized_return / annualized_volatility\n",
        "\n",
        "    return {\n",
        "        'Month': pd.to_datetime(end_date).strftime('%Y-%m'),\n",
        "        'SPY Sharpe Ratio': round(float(sharpe_ratio), 3)\n",
        "    }\n",
        "\n",
        "# Define rolling windows\n",
        "date_ranges = [\n",
        "    ('2023-01-01', '2024-01-31'),\n",
        "    ('2023-02-01', '2024-02-29'),\n",
        "    ('2023-03-01', '2024-03-31'),\n",
        "    ('2023-04-01', '2024-04-30'),\n",
        "    ('2023-05-01', '2024-05-31'),\n",
        "    ('2023-06-01', '2024-06-30'),\n",
        "    ('2023-07-01', '2024-07-31'),\n",
        "    ('2023-08-01', '2024-08-31'),\n",
        "    ('2023-09-01', '2024-09-30'),\n",
        "    ('2023-10-01', '2024-10-31'),\n",
        "    ('2023-11-01', '2024-11-30'),\n",
        "]\n",
        "\n",
        "# Run Sharpe calc for all ranges\n",
        "results = [calculate_spy_sharpe_ratio(start, end) for start, end in date_ranges]\n",
        "\n",
        "print(\"SPY Sharpe Ratio :\")\n",
        "# Format as DataFrame and print nicely\n",
        "results_df = pd.DataFrame(results)\n",
        "print(results_df.to_string(index=False))\n",
        ""
      ]
    },
    {
      "cell_type": "code",
      "source": [
        "from google.colab import drive\n",
        "drive.mount('/content/drive')\n",
        "\n",
        "# Set your desired file path in Google Drive\n",
        "file_path = '/content/drive/MyDrive/SPY_Sharpe_Ratio.csv'\n",
        "\n",
        "# Save to CSV\n",
        "results_df.to_csv(file_path, index=False)\n",
        "\n",
        "print(f\"CSV successfully saved to {file_path}\")\n"
      ],
      "metadata": {
        "colab": {
          "base_uri": "https://localhost:8080/"
        },
        "id": "s3UgkFQWieL8",
        "outputId": "05f8b7a4-33ab-4029-c03d-2ff1b5d39ec1"
      },
      "execution_count": 12,
      "outputs": [
        {
          "output_type": "stream",
          "name": "stdout",
          "text": [
            "Mounted at /content/drive\n",
            "CSV successfully saved to /content/drive/MyDrive/SPY_Sharpe_Ratio.csv\n"
          ]
        }
      ]
    }
  ]
}